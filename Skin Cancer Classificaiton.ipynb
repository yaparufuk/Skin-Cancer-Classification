{
  "cells": [
    {
      "cell_type": "markdown",
      "id": "df7a9422",
      "metadata": {
        "id": "df7a9422"
      },
      "source": [
        "# Skin Cancer Classificaiton"
      ]
    },
    {
      "cell_type": "code",
      "execution_count": null,
      "id": "f6126e30",
      "metadata": {
        "id": "f6126e30"
      },
      "outputs": [],
      "source": [
        "import cv2\n",
        "import pandas as pd\n",
        "import os"
      ]
    },
    {
      "cell_type": "code",
      "execution_count": null,
      "id": "a8eba711",
      "metadata": {
        "id": "a8eba711"
      },
      "outputs": [],
      "source": [
        "labels=['Cancer','Non_Cancer']\n",
        "img_path='Skin_Data/'"
      ]
    },
    {
      "cell_type": "code",
      "execution_count": null,
      "id": "7fe49ff3",
      "metadata": {
        "id": "7fe49ff3"
      },
      "outputs": [],
      "source": [
        "img_list=[]\n",
        "label_list=[]\n",
        "for label in labels:\n",
        "    for img_file in os.listdir(img_path+label):\n",
        "        img_list.append(img_path+label+'/'+img_file)\n",
        "        label_list.append(label)\n",
        ""
      ]
    },
    {
      "cell_type": "code",
      "execution_count": null,
      "id": "4c329578",
      "metadata": {
        "id": "4c329578"
      },
      "outputs": [],
      "source": [
        "df=pd.DataFrame({'img':img_list,'label':label_list})"
      ]
    },
    {
      "cell_type": "code",
      "execution_count": null,
      "id": "acd0ab4b",
      "metadata": {
        "id": "acd0ab4b",
        "outputId": "669b5d87-1617-4bdc-c958-631428def7b9"
      },
      "outputs": [
        {
          "data": {
            "text/html": [
              "<div>\n",
              "<style scoped>\n",
              "    .dataframe tbody tr th:only-of-type {\n",
              "        vertical-align: middle;\n",
              "    }\n",
              "\n",
              "    .dataframe tbody tr th {\n",
              "        vertical-align: top;\n",
              "    }\n",
              "\n",
              "    .dataframe thead th {\n",
              "        text-align: right;\n",
              "    }\n",
              "</style>\n",
              "<table border=\"1\" class=\"dataframe\">\n",
              "  <thead>\n",
              "    <tr style=\"text-align: right;\">\n",
              "      <th></th>\n",
              "      <th>img</th>\n",
              "      <th>label</th>\n",
              "    </tr>\n",
              "  </thead>\n",
              "  <tbody>\n",
              "    <tr>\n",
              "      <th>283</th>\n",
              "      <td>Skin_Data/Non_Cancer/63-1.JPG</td>\n",
              "      <td>Non_Cancer</td>\n",
              "    </tr>\n",
              "    <tr>\n",
              "      <th>284</th>\n",
              "      <td>Skin_Data/Non_Cancer/911-2.JPG</td>\n",
              "      <td>Non_Cancer</td>\n",
              "    </tr>\n",
              "    <tr>\n",
              "      <th>285</th>\n",
              "      <td>Skin_Data/Non_Cancer/937-1.JPG</td>\n",
              "      <td>Non_Cancer</td>\n",
              "    </tr>\n",
              "    <tr>\n",
              "      <th>286</th>\n",
              "      <td>Skin_Data/Non_Cancer/1834-01.JPG</td>\n",
              "      <td>Non_Cancer</td>\n",
              "    </tr>\n",
              "    <tr>\n",
              "      <th>287</th>\n",
              "      <td>Skin_Data/Non_Cancer/184.JPG</td>\n",
              "      <td>Non_Cancer</td>\n",
              "    </tr>\n",
              "  </tbody>\n",
              "</table>\n",
              "</div>"
            ],
            "text/plain": [
              "                                  img       label\n",
              "283     Skin_Data/Non_Cancer/63-1.JPG  Non_Cancer\n",
              "284    Skin_Data/Non_Cancer/911-2.JPG  Non_Cancer\n",
              "285    Skin_Data/Non_Cancer/937-1.JPG  Non_Cancer\n",
              "286  Skin_Data/Non_Cancer/1834-01.JPG  Non_Cancer\n",
              "287      Skin_Data/Non_Cancer/184.JPG  Non_Cancer"
            ]
          },
          "execution_count": 5,
          "metadata": {},
          "output_type": "execute_result"
        }
      ],
      "source": [
        "df.tail()"
      ]
    },
    {
      "cell_type": "code",
      "execution_count": null,
      "id": "b5982b15",
      "metadata": {
        "id": "b5982b15"
      },
      "outputs": [],
      "source": [
        "import matplotlib.pyplot as plt"
      ]
    },
    {
      "cell_type": "code",
      "execution_count": null,
      "id": "c30b1ead",
      "metadata": {
        "id": "c30b1ead"
      },
      "outputs": [],
      "source": [
        "d={'Cancer':1,'Non_Cancer':0}"
      ]
    },
    {
      "cell_type": "code",
      "execution_count": null,
      "id": "65a93924",
      "metadata": {
        "id": "65a93924"
      },
      "outputs": [],
      "source": [
        "df['encode_label']=df['label'].map(d)"
      ]
    },
    {
      "cell_type": "code",
      "execution_count": null,
      "id": "08d27cf5",
      "metadata": {
        "id": "08d27cf5",
        "outputId": "f009e809-6eb0-47a5-c8cb-2f0a4f2b5812"
      },
      "outputs": [
        {
          "data": {
            "text/html": [
              "<div>\n",
              "<style scoped>\n",
              "    .dataframe tbody tr th:only-of-type {\n",
              "        vertical-align: middle;\n",
              "    }\n",
              "\n",
              "    .dataframe tbody tr th {\n",
              "        vertical-align: top;\n",
              "    }\n",
              "\n",
              "    .dataframe thead th {\n",
              "        text-align: right;\n",
              "    }\n",
              "</style>\n",
              "<table border=\"1\" class=\"dataframe\">\n",
              "  <thead>\n",
              "    <tr style=\"text-align: right;\">\n",
              "      <th></th>\n",
              "      <th>img</th>\n",
              "      <th>label</th>\n",
              "      <th>encode_label</th>\n",
              "    </tr>\n",
              "  </thead>\n",
              "  <tbody>\n",
              "    <tr>\n",
              "      <th>283</th>\n",
              "      <td>Skin_Data/Non_Cancer/63-1.JPG</td>\n",
              "      <td>Non_Cancer</td>\n",
              "      <td>0</td>\n",
              "    </tr>\n",
              "    <tr>\n",
              "      <th>284</th>\n",
              "      <td>Skin_Data/Non_Cancer/911-2.JPG</td>\n",
              "      <td>Non_Cancer</td>\n",
              "      <td>0</td>\n",
              "    </tr>\n",
              "    <tr>\n",
              "      <th>285</th>\n",
              "      <td>Skin_Data/Non_Cancer/937-1.JPG</td>\n",
              "      <td>Non_Cancer</td>\n",
              "      <td>0</td>\n",
              "    </tr>\n",
              "    <tr>\n",
              "      <th>286</th>\n",
              "      <td>Skin_Data/Non_Cancer/1834-01.JPG</td>\n",
              "      <td>Non_Cancer</td>\n",
              "      <td>0</td>\n",
              "    </tr>\n",
              "    <tr>\n",
              "      <th>287</th>\n",
              "      <td>Skin_Data/Non_Cancer/184.JPG</td>\n",
              "      <td>Non_Cancer</td>\n",
              "      <td>0</td>\n",
              "    </tr>\n",
              "  </tbody>\n",
              "</table>\n",
              "</div>"
            ],
            "text/plain": [
              "                                  img       label  encode_label\n",
              "283     Skin_Data/Non_Cancer/63-1.JPG  Non_Cancer             0\n",
              "284    Skin_Data/Non_Cancer/911-2.JPG  Non_Cancer             0\n",
              "285    Skin_Data/Non_Cancer/937-1.JPG  Non_Cancer             0\n",
              "286  Skin_Data/Non_Cancer/1834-01.JPG  Non_Cancer             0\n",
              "287      Skin_Data/Non_Cancer/184.JPG  Non_Cancer             0"
            ]
          },
          "execution_count": 9,
          "metadata": {},
          "output_type": "execute_result"
        }
      ],
      "source": [
        "df.tail()"
      ]
    },
    {
      "cell_type": "code",
      "execution_count": null,
      "id": "6f29121e",
      "metadata": {
        "id": "6f29121e"
      },
      "outputs": [],
      "source": [
        "import numpy as np"
      ]
    },
    {
      "cell_type": "code",
      "execution_count": null,
      "id": "e8a0aff7",
      "metadata": {
        "id": "e8a0aff7"
      },
      "outputs": [],
      "source": [
        "x=[]\n",
        "for img in df['img']:\n",
        "    img=cv2.imread(str(img))\n",
        "    img=cv2.resize(img,(170,170))\n",
        "    img=img/255.0\n",
        "    x.append(img)"
      ]
    },
    {
      "cell_type": "code",
      "execution_count": null,
      "id": "ea1e3572",
      "metadata": {
        "id": "ea1e3572"
      },
      "outputs": [],
      "source": [
        "x=np.array(x)"
      ]
    },
    {
      "cell_type": "code",
      "execution_count": null,
      "id": "60a24050",
      "metadata": {
        "id": "60a24050"
      },
      "outputs": [],
      "source": [
        "y=df['encode_label']"
      ]
    },
    {
      "cell_type": "code",
      "execution_count": null,
      "id": "1d4f4de6",
      "metadata": {
        "id": "1d4f4de6"
      },
      "outputs": [],
      "source": [
        "from sklearn.model_selection import train_test_split"
      ]
    },
    {
      "cell_type": "code",
      "execution_count": null,
      "id": "a0510680",
      "metadata": {
        "id": "a0510680"
      },
      "outputs": [],
      "source": [
        "x_train,x_test,y_train,y_test=train_test_split(x,y,test_size=.20,random_state=42)"
      ]
    },
    {
      "cell_type": "code",
      "execution_count": null,
      "id": "480ee3fb",
      "metadata": {
        "id": "480ee3fb"
      },
      "outputs": [],
      "source": [
        "from keras.models import Sequential\n",
        "from keras.layers import Conv2D, Dense, Flatten, Input, MaxPooling2D, Dropout,BatchNormalization, Reshape"
      ]
    },
    {
      "cell_type": "code",
      "execution_count": null,
      "id": "0b686193",
      "metadata": {
        "id": "0b686193"
      },
      "outputs": [],
      "source": [
        "# CNN"
      ]
    },
    {
      "cell_type": "code",
      "execution_count": null,
      "id": "97379d47",
      "metadata": {
        "id": "97379d47"
      },
      "outputs": [],
      "source": [
        "model=Sequential()\n",
        "model.add(Input(shape=(170,170,3)))\n",
        "model.add(Conv2D(32,kernel_size=(3,3),activation='relu'))\n",
        "model.add(MaxPooling2D(pool_size=(2,2)))\n",
        "model.add(Conv2D(64,kernel_size=(3,3),activation='relu'))\n",
        "model.add(MaxPooling2D(pool_size=(2,2)))\n",
        "model.add(Flatten())\n",
        "model.add(Dense(128))\n",
        "model.add(Dense(2, activation='softmax'))\n",
        "model.compile(optimizer='adam',loss='sparse_categorical_crossentropy',metrics=['accuracy'])"
      ]
    },
    {
      "cell_type": "code",
      "execution_count": null,
      "id": "dafed5c5",
      "metadata": {
        "id": "dafed5c5",
        "outputId": "5e360360-1fd7-4945-cec2-5f36b7cabf1a"
      },
      "outputs": [
        {
          "name": "stdout",
          "output_type": "stream",
          "text": [
            "Epoch 1/20\n",
            "8/8 [==============================] - 2s 183ms/step - loss: 10.9067 - accuracy: 0.6174 - val_loss: 0.7209 - val_accuracy: 0.7414\n",
            "Epoch 2/20\n",
            "8/8 [==============================] - 1s 173ms/step - loss: 0.7060 - accuracy: 0.6652 - val_loss: 0.4962 - val_accuracy: 0.7414\n",
            "Epoch 3/20\n",
            "8/8 [==============================] - 1s 175ms/step - loss: 0.5266 - accuracy: 0.8000 - val_loss: 0.4850 - val_accuracy: 0.7586\n",
            "Epoch 4/20\n",
            "8/8 [==============================] - 1s 176ms/step - loss: 0.4420 - accuracy: 0.8217 - val_loss: 0.4578 - val_accuracy: 0.7586\n",
            "Epoch 5/20\n",
            "8/8 [==============================] - 1s 179ms/step - loss: 0.4006 - accuracy: 0.8304 - val_loss: 0.3395 - val_accuracy: 0.7931\n",
            "Epoch 6/20\n",
            "8/8 [==============================] - 1s 179ms/step - loss: 0.4965 - accuracy: 0.7652 - val_loss: 0.7411 - val_accuracy: 0.7069\n",
            "Epoch 7/20\n",
            "8/8 [==============================] - 2s 233ms/step - loss: 0.3431 - accuracy: 0.8565 - val_loss: 0.4239 - val_accuracy: 0.7759\n",
            "Epoch 8/20\n",
            "8/8 [==============================] - 2s 254ms/step - loss: 0.2509 - accuracy: 0.9174 - val_loss: 0.4479 - val_accuracy: 0.7759\n",
            "Epoch 9/20\n",
            "8/8 [==============================] - 2s 290ms/step - loss: 0.1910 - accuracy: 0.9304 - val_loss: 0.7760 - val_accuracy: 0.7586\n",
            "Epoch 10/20\n",
            "8/8 [==============================] - 2s 273ms/step - loss: 0.1962 - accuracy: 0.9348 - val_loss: 0.4350 - val_accuracy: 0.7759\n",
            "Epoch 11/20\n",
            "8/8 [==============================] - 2s 249ms/step - loss: 0.1453 - accuracy: 0.9348 - val_loss: 0.4558 - val_accuracy: 0.7931\n",
            "Epoch 12/20\n",
            "8/8 [==============================] - 2s 191ms/step - loss: 0.0860 - accuracy: 0.9783 - val_loss: 0.5182 - val_accuracy: 0.8276\n",
            "Epoch 13/20\n",
            "8/8 [==============================] - 1s 179ms/step - loss: 0.2163 - accuracy: 0.9000 - val_loss: 0.3626 - val_accuracy: 0.8621\n",
            "Epoch 14/20\n",
            "8/8 [==============================] - 1s 178ms/step - loss: 0.1796 - accuracy: 0.9478 - val_loss: 0.3062 - val_accuracy: 0.8621\n",
            "Epoch 15/20\n",
            "8/8 [==============================] - 1s 178ms/step - loss: 0.1621 - accuracy: 0.9696 - val_loss: 0.2925 - val_accuracy: 0.8276\n",
            "Epoch 16/20\n",
            "8/8 [==============================] - 1s 181ms/step - loss: 0.1366 - accuracy: 0.9522 - val_loss: 0.3354 - val_accuracy: 0.8448\n",
            "Epoch 17/20\n",
            "8/8 [==============================] - 1s 182ms/step - loss: 0.0836 - accuracy: 0.9739 - val_loss: 0.4454 - val_accuracy: 0.7931\n",
            "Epoch 18/20\n",
            "8/8 [==============================] - 2s 189ms/step - loss: 0.0510 - accuracy: 0.9826 - val_loss: 0.5823 - val_accuracy: 0.7414\n",
            "Epoch 19/20\n",
            "8/8 [==============================] - 2s 220ms/step - loss: 0.0753 - accuracy: 0.9783 - val_loss: 0.3976 - val_accuracy: 0.8103\n",
            "Epoch 20/20\n",
            "8/8 [==============================] - 2s 197ms/step - loss: 0.0390 - accuracy: 0.9913 - val_loss: 0.4631 - val_accuracy: 0.7586\n"
          ]
        }
      ],
      "source": [
        "history=model.fit(x_train,y_train,validation_data=(x_test,y_test), epochs=20, verbose=1)"
      ]
    },
    {
      "cell_type": "code",
      "execution_count": null,
      "id": "1ce22230",
      "metadata": {
        "id": "1ce22230",
        "outputId": "a9530c47-5501-49e9-aed8-5c034a35102b"
      },
      "outputs": [
        {
          "name": "stderr",
          "output_type": "stream",
          "text": [
            "/Users/ufuk/anaconda3/lib/python3.11/site-packages/keras/src/engine/training.py:3103: UserWarning: You are saving your model as an HDF5 file via `model.save()`. This file format is considered legacy. We recommend using instead the native Keras format, e.g. `model.save('my_model.keras')`.\n",
            "  saving_api.save_model(\n"
          ]
        }
      ],
      "source": [
        "model.save('my_cnn_model.h5')"
      ]
    }
  ],
  "metadata": {
    "kernelspec": {
      "display_name": "Python 3 (ipykernel)",
      "language": "python",
      "name": "python3"
    },
    "language_info": {
      "codemirror_mode": {
        "name": "ipython",
        "version": 3
      },
      "file_extension": ".py",
      "mimetype": "text/x-python",
      "name": "python",
      "nbconvert_exporter": "python",
      "pygments_lexer": "ipython3",
      "version": "3.11.5"
    },
    "colab": {
      "provenance": []
    }
  },
  "nbformat": 4,
  "nbformat_minor": 5
}